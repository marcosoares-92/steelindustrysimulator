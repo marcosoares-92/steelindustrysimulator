{
  "cells": [
    {
      "cell_type": "markdown",
      "source": [
        "<a href=\"https://colab.research.google.com/github/marcosoares-92/steelindustrysimulator/blob/main/steelindustry_digitaltwin.ipynb\" target=\"_parent\"><img src=\"https://colab.research.google.com/assets/colab-badge.svg\" alt=\"Open In Colab\"/></a>"
      ],
      "metadata": {
        "id": "FbExS0cCFOoN"
      }
    },
    {
      "cell_type": "markdown",
      "metadata": {
        "id": "_7gRpQLXQSID"
      },
      "source": [
        "# Steel Industry Digital Twin\n",
        "## Deep Learning for Industrial Simulator"
      ]
    },
    {
      "cell_type": "code",
      "source": [
        "# @title Instrução para uso! (e solução de problemas)\n",
        "# @markdown Existe um botão \"Play\" no canto superior esquerdo de cada célula.\n",
        "\n",
        "# @markdown Após selecionar os parâmetros e ler as instruções de cada células, clique no Play ou pressione Shift + Enter para executar o comando.\n",
        "\n",
        "# @markdown Caso a inicialização da fábrica não funcione, clique no Play no canto superior esquerdo do texto desta primeira célula.\n",
        "\n",
        "# @markdown Por fim, clique no botão \"Restart session\" que surgir.\n",
        "\n",
        "! pip install scikit-learn==1.3.1"
      ],
      "metadata": {
        "cellView": "form",
        "id": "_uwxKtDn6RSd"
      },
      "execution_count": null,
      "outputs": []
    },
    {
      "cell_type": "code",
      "execution_count": 2,
      "metadata": {
        "colab": {
          "base_uri": "https://localhost:8080/",
          "height": 507
        },
        "id": "0XBUmMCa8-i2",
        "outputId": "138ec130-fea0-41b9-bf2e-567d02c6f3f5"
      },
      "outputs": [
        {
          "output_type": "stream",
          "name": "stdout",
          "text": [
            "Iniciando operação da indústria de aço.\n",
            "Scikit-learn model successfully imported from steelindustrysimulator/digitaltwin/data/kmeans_model.pkl.\n",
            "Keras/TensorFlow model successfully imported from steelindustrysimulator/digitaltwin/data/encoder_decoder_tf_model/saved_model.\n"
          ]
        },
        {
          "output_type": "display_data",
          "data": {
            "text/plain": [
              "\"\\n\\n        Bem-vindo ao gêmeo digital (Digital Twin) da indústria siderúrgica!\\n\\n         Este simulador aplica tecnologias avançadas de IA (deep learning) para reproduzir o\\n         operação de uma indústria siderúrgica de pequena escala.\\n\\n         O gêmeo digital foi projetado para reproduzir o comportamento da fábrica da DAEWOO Steel Co.\\n         em Gwangyang, Coreia do Sul, que tornou seus dados públicos.\\n         - Esta fábrica produz diversos tipos de bobinas, chapas de aço e chapas de ferro.\\n         - As informações sobre o consumo de energia elétrica são mantidas em sistema baseado em nuvem.\\n         - As informações sobre o consumo de energia da indústria estão armazenadas no site da\\n         Corporação de Energia Elétrica da Coreia (pccs.kepco.go.kr); e as perspectivas diárias, mensais,\\n         e os dados anuais são calculados e mostrados.\\n\\n         Todas essas informações foram utilizadas para a criação dos algoritmos que irão reproduzir o\\n         comportamento de consumo energético com base nas entradas do usuário.\\n\\n         SEU OBJETIVO AQUI É MINIMIZAR O CONSUMO DE ENERGIA, QUE É MOSTRADO EM kWh.\\n\\n\\n         ## Para isso, você definirá:\\n\\n         - O dia de início da simulação da planta (que pode ser hoje).\\n         - O total de dias e horas para operar a planta nas condições definidas\\n             - O padrão é 1 dia e 0 horas, ou seja, 24h de operação.\\n        \\n         - Parâmetros de operação da planta:\\n             - Potência reativa de corrente atrasada, em kVarh;\\n             - Potência reativa de corrente principal, em kVarh;\\n             - tCO2(CO2), em ppm;\\n             - Fator de potência da corrente atrasada, em %;\\n             - Tipo de Carga: Carga Leve ('Light_Load'), Carga Média ('Medium_Load'), Carga Máxima ('Maximum_Load').\\n\\n\\n         ## E obterá a variável Response:\\n             - Consumo de energia, em kWh\\n\\n         - O simulador retorna também as seguintes informações:\\n             - Fator de potência de corrente principal, em %;\\n             - Número de Segundos a partir da meia-noite (NSM), em segundos (s);\\n             - Status da semana: se o dia simulado é Fim de semana (indicado como 'Weekend') ou \\n             'Dia de semana' (indicado como 'Weekday'); \\n             - Dia da semana: 'Domingo' (indicado como 'Sunday'), 'Segunda-feira' ('Monday'), \\n             'Terça-feira' ('Tuesday'), 'Quarta-feira' ('Wednesday'), 'Quinta-feira' ('Thursday'),\\n             'Sexta-feira' ('Friday'), 'Sábado' ('Saturday').\\n            \\n    \""
            ],
            "application/vnd.google.colaboratory.intrinsic+json": {
              "type": "string"
            }
          },
          "metadata": {}
        }
      ],
      "source": [
        "# @title Clique no botão \"Play\" abaixo (lado esquerdo) para iniciar a simulação { run: \"auto\", vertical-output: true, display-mode: \"form\" }\n",
        "\n",
        "def start_simulation(PT = True):\n",
        "\n",
        "  from subprocess import Popen, PIPE, TimeoutExpired\n",
        "\n",
        "  START_MSG = \"\"\"Starting steel industry operation.\"\"\"\n",
        "  START_MSG_PT = \"\"\"Iniciando operação da indústria de aço.\"\"\"\n",
        "\n",
        "  if (PT):\n",
        "    START_MSG = START_MSG_PT\n",
        "\n",
        "  proc = Popen([\"git\", \"clone\", \"https://github.com/marcosoares-92/steelindustrysimulator\", \"steelindustrysimulator\"], stdout = PIPE, stderr = PIPE)\n",
        "\n",
        "  try:\n",
        "      output, error = proc.communicate(timeout = 15)\n",
        "      print (START_MSG)\n",
        "  except:\n",
        "      # General exception\n",
        "      output, error = proc.communicate()\n",
        "      print(f\"Process with output: {output}, error: {error}.\\n\")\n",
        "\n",
        "\n",
        "start_simulation()\n",
        "from steelindustrysimulator.digitaltwin import *\n",
        "digitaltwin_start_msg(PT = True)"
      ]
    },
    {
      "cell_type": "code",
      "execution_count": null,
      "metadata": {
        "id": "_VLrJ7NpX241",
        "cellView": "form"
      },
      "outputs": [],
      "source": [
        "# @title Painel de Controle da Fábrica\n",
        "# @markdown Selecione os valores de simulação e clique no botão \"Play\" à esquerda para iniciar.\n",
        "\n",
        "Inicio = '2023-12-21'  # @param {type: \"date\"}\n",
        "Total_de_dias = 1  # @param {type: \"number\"}\n",
        "Total_de_horas = 0  # @param {type: \"number\"}\n",
        "Potencia_reativa_de_corrente_atrasada_kVarh = 39.974 # @param {type: \"slider\", min: 0.0, max: 72.16250000000001, step: 0.001}\n",
        "Potencia_reativa_de_corrente_principal_kVarh = 1.264 # @param {type: \"slider\", min: 0.0, max: 27.605, step: 0.001}\n",
        "tCO2_ppm_CO2 = 0.031 # @param {type: \"slider\", min: 0.0, max: 0.065, step: 0.001}\n",
        "Fator_de_potencia_da_corrente_atrasada = 69.6245 # @param {type: \"slider\", min: 37.2975, max: 100.0, step: 0.001}\n",
        "Tipo_de_carga = \"Light_Load\"  # @param ['Light_Load', 'Medium_Load', 'Maximum_Load']\n",
        "\n",
        "run_simulation(Inicio, Total_de_dias, Total_de_horas, Potencia_reativa_de_corrente_atrasada_kVarh, Potencia_reativa_de_corrente_principal_kVarh, tCO2_ppm_CO2, Fator_de_potencia_da_corrente_atrasada, Tipo_de_carga)"
      ]
    },
    {
      "cell_type": "code",
      "execution_count": null,
      "metadata": {
        "id": "ig8PIYeLtM8g",
        "cellView": "form"
      },
      "outputs": [],
      "source": [
        "#@title Visualizar consumo em kWh\n",
        "# @markdown Clique no botão \"Play\" à esquerda para visualizar os gráficos do consumo energético da fábrica, em kWh.\n",
        "\n",
        "# @markdown Selecione abaixo se deseja salvar os gráficos gerados:\n",
        "\n",
        "Exportar_graficos = True #@param {type:\"boolean\"}\n",
        "\n",
        "visualize_usage_kwh(export_images = Exportar_graficos)"
      ]
    },
    {
      "cell_type": "code",
      "source": [
        "#@title Fazer download de arquivo Excel com as tabelas de simulação.\n",
        "# @markdown Clique no botão \"Play\" à esquerda para fazer download de uma planilha Excel contendo as tabelas com todas as simulações realizadas até agora.\n",
        "\n",
        "download_excel_with_data()"
      ],
      "metadata": {
        "cellView": "form",
        "id": "OzuZ7b3a0Z1s"
      },
      "execution_count": null,
      "outputs": []
    }
  ],
  "metadata": {
    "colab": {
      "provenance": []
    },
    "kernelspec": {
      "display_name": "Python 3",
      "name": "python3"
    },
    "language_info": {
      "name": "python",
      "version": ""
    }
  },
  "nbformat": 4,
  "nbformat_minor": 0
}