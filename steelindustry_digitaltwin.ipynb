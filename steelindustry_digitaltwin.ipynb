{
  "cells": [
    {
      "cell_type": "markdown",
      "source": [
        "<a href=\"https://colab.research.google.com/github/https-deeplearning-ai/tensorflow-1-public/blob/main/C4/W4/ungraded_labs/C4_W4_Lab_3_Sunspots_CNN_RNN_DNN.ipynb\" target=\"_parent\"><img src=\"https://colab.research.google.com/assets/colab-badge.svg\" alt=\"Open In Colab\"/></a>"
      ],
      "metadata": {
        "id": "FbExS0cCFOoN"
      }
    },
    {
      "cell_type": "markdown",
      "metadata": {
        "id": "_7gRpQLXQSID"
      },
      "source": [
        "# Steel Industry Digital Twin\n",
        "## Deep Learning for Industrial Simulator"
      ]
    },
    {
      "cell_type": "code",
      "source": [
        "# @title Instrução para uso! (e solução de problemas)\n",
        "# @markdown Existe um botão \"Play\" no canto superior esquerdo de cada célula.\n",
        "\n",
        "# @markdown Após selecionar os parâmetros e ler as instruções de cada células, clique no Play ou pressione Shift + Enter para executar o comando.\n",
        "\n",
        "# @markdown Caso a inicialização da fábrica não funcione, clique no Play no canto superior esquerdo do texto desta primeira célula.\n",
        "\n",
        "# @markdown Por fim, clique no botão \"Restart session\" que surgir.\n",
        "\n",
        "! pip install scikit-learn==1.3.1"
      ],
      "metadata": {
        "cellView": "form",
        "id": "_uwxKtDn6RSd"
      },
      "execution_count": null,
      "outputs": []
    },
    {
      "cell_type": "code",
      "execution_count": 6,
      "metadata": {
        "colab": {
          "base_uri": "https://localhost:8080/",
          "height": 1000
        },
        "id": "0XBUmMCa8-i2",
        "outputId": "d0cbb8fb-9e12-426c-97a7-ee954c4fe4a4"
      },
      "outputs": [
        {
          "output_type": "stream",
          "name": "stdout",
          "text": [
            "Iniciando operação da indústria de aço.\n",
            "Scikit-learn model successfully imported from steelindustrysimulator/digitaltwin/data/kmeans_model.pkl.\n",
            "Keras/TensorFlow model successfully imported from steelindustrysimulator/digitaltwin/data/encoder_decoder_tf_model/saved_model.\n"
          ]
        },
        {
          "output_type": "error",
          "ename": "KeyError",
          "evalue": "ignored",
          "traceback": [
            "\u001b[0;31m---------------------------------------------------------------------------\u001b[0m",
            "\u001b[0;31mKeyError\u001b[0m                                  Traceback (most recent call last)",
            "\u001b[0;32m/usr/local/lib/python3.10/dist-packages/pandas/core/indexes/base.py\u001b[0m in \u001b[0;36mget_loc\u001b[0;34m(self, key, method, tolerance)\u001b[0m\n\u001b[1;32m   3801\u001b[0m             \u001b[0;32mtry\u001b[0m\u001b[0;34m:\u001b[0m\u001b[0;34m\u001b[0m\u001b[0;34m\u001b[0m\u001b[0m\n\u001b[0;32m-> 3802\u001b[0;31m                 \u001b[0;32mreturn\u001b[0m \u001b[0mself\u001b[0m\u001b[0;34m.\u001b[0m\u001b[0m_engine\u001b[0m\u001b[0;34m.\u001b[0m\u001b[0mget_loc\u001b[0m\u001b[0;34m(\u001b[0m\u001b[0mcasted_key\u001b[0m\u001b[0;34m)\u001b[0m\u001b[0;34m\u001b[0m\u001b[0;34m\u001b[0m\u001b[0m\n\u001b[0m\u001b[1;32m   3803\u001b[0m             \u001b[0;32mexcept\u001b[0m \u001b[0mKeyError\u001b[0m \u001b[0;32mas\u001b[0m \u001b[0merr\u001b[0m\u001b[0;34m:\u001b[0m\u001b[0;34m\u001b[0m\u001b[0;34m\u001b[0m\u001b[0m\n",
            "\u001b[0;32m/usr/local/lib/python3.10/dist-packages/pandas/_libs/index.pyx\u001b[0m in \u001b[0;36mpandas._libs.index.IndexEngine.get_loc\u001b[0;34m()\u001b[0m\n",
            "\u001b[0;32m/usr/local/lib/python3.10/dist-packages/pandas/_libs/index.pyx\u001b[0m in \u001b[0;36mpandas._libs.index.IndexEngine.get_loc\u001b[0;34m()\u001b[0m\n",
            "\u001b[0;32mpandas/_libs/hashtable_class_helper.pxi\u001b[0m in \u001b[0;36mpandas._libs.hashtable.PyObjectHashTable.get_item\u001b[0;34m()\u001b[0m\n",
            "\u001b[0;32mpandas/_libs/hashtable_class_helper.pxi\u001b[0m in \u001b[0;36mpandas._libs.hashtable.PyObjectHashTable.get_item\u001b[0;34m()\u001b[0m\n",
            "\u001b[0;31mKeyError\u001b[0m: 'Leading_Current_Reactive_Power'",
            "\nThe above exception was the direct cause of the following exception:\n",
            "\u001b[0;31mKeyError\u001b[0m                                  Traceback (most recent call last)",
            "\u001b[0;32m<ipython-input-6-a399508d8c2a>\u001b[0m in \u001b[0;36m<cell line: 25>\u001b[0;34m()\u001b[0m\n\u001b[1;32m     23\u001b[0m \u001b[0;34m\u001b[0m\u001b[0m\n\u001b[1;32m     24\u001b[0m \u001b[0mstart_simulation\u001b[0m\u001b[0;34m(\u001b[0m\u001b[0;34m)\u001b[0m\u001b[0;34m\u001b[0m\u001b[0;34m\u001b[0m\u001b[0m\n\u001b[0;32m---> 25\u001b[0;31m \u001b[0;32mfrom\u001b[0m \u001b[0msteelindustrysimulator\u001b[0m\u001b[0;34m.\u001b[0m\u001b[0mdigitaltwin\u001b[0m \u001b[0;32mimport\u001b[0m \u001b[0;34m*\u001b[0m\u001b[0;34m\u001b[0m\u001b[0;34m\u001b[0m\u001b[0m\n\u001b[0m\u001b[1;32m     26\u001b[0m \u001b[0mdigitaltwin_start_msg\u001b[0m\u001b[0;34m(\u001b[0m\u001b[0mPT\u001b[0m \u001b[0;34m=\u001b[0m \u001b[0;32mTrue\u001b[0m\u001b[0;34m)\u001b[0m\u001b[0;34m\u001b[0m\u001b[0;34m\u001b[0m\u001b[0m\n",
            "\u001b[0;32m/content/steelindustrysimulator/digitaltwin/__init__.py\u001b[0m in \u001b[0;36m<module>\u001b[0;34m\u001b[0m\n\u001b[1;32m     10\u001b[0m \"\"\"\n\u001b[1;32m     11\u001b[0m \u001b[0;34m\u001b[0m\u001b[0m\n\u001b[0;32m---> 12\u001b[0;31m from .core import (\n\u001b[0m\u001b[1;32m     13\u001b[0m     \u001b[0mGlobalVars\u001b[0m\u001b[0;34m,\u001b[0m\u001b[0;34m\u001b[0m\u001b[0;34m\u001b[0m\u001b[0m\n\u001b[1;32m     14\u001b[0m     \u001b[0mrun_simulation\u001b[0m\u001b[0;34m,\u001b[0m\u001b[0;34m\u001b[0m\u001b[0;34m\u001b[0m\u001b[0m\n",
            "\u001b[0;32m/content/steelindustrysimulator/digitaltwin/core.py\u001b[0m in \u001b[0;36m<module>\u001b[0;34m\u001b[0m\n\u001b[1;32m     25\u001b[0m \u001b[0;34m\u001b[0m\u001b[0m\n\u001b[1;32m     26\u001b[0m \u001b[0;34m@\u001b[0m\u001b[0mdataclass\u001b[0m\u001b[0;34m\u001b[0m\u001b[0;34m\u001b[0m\u001b[0m\n\u001b[0;32m---> 27\u001b[0;31m \u001b[0;32mclass\u001b[0m \u001b[0mGlobalVars\u001b[0m\u001b[0;34m:\u001b[0m\u001b[0;34m\u001b[0m\u001b[0;34m\u001b[0m\u001b[0m\n\u001b[0m\u001b[1;32m     28\u001b[0m   \"\"\"\n\u001b[1;32m     29\u001b[0m     \u001b[0mStore\u001b[0m \u001b[0mGlobal\u001b[0m \u001b[0mvariables\u001b[0m \u001b[0mto\u001b[0m \u001b[0muse\u001b[0m \u001b[0mon\u001b[0m \u001b[0msimulation\u001b[0m \u001b[0;32mfor\u001b[0m \u001b[0mthe\u001b[0m \u001b[0mmodel\u001b[0m\u001b[0;34m.\u001b[0m\u001b[0;34m\u001b[0m\u001b[0;34m\u001b[0m\u001b[0m\n",
            "\u001b[0;32m/content/steelindustrysimulator/digitaltwin/core.py\u001b[0m in \u001b[0;36mGlobalVars\u001b[0;34m()\u001b[0m\n\u001b[1;32m     43\u001b[0m \u001b[0;34m\u001b[0m\u001b[0m\n\u001b[1;32m     44\u001b[0m   \u001b[0;31m# Start variables with random values:\u001b[0m\u001b[0;34m\u001b[0m\u001b[0;34m\u001b[0m\u001b[0m\n\u001b[0;32m---> 45\u001b[0;31m   \u001b[0mlagging_current_reactive_power\u001b[0m\u001b[0;34m,\u001b[0m \u001b[0mleading_current_reactive_power\u001b[0m\u001b[0;34m,\u001b[0m \u001b[0mco2_tco2\u001b[0m\u001b[0;34m,\u001b[0m \u001b[0mlagging_current_power_factor\u001b[0m\u001b[0;34m,\u001b[0m \u001b[0mload_type\u001b[0m \u001b[0;34m=\u001b[0m \u001b[0mrandom_start\u001b[0m\u001b[0;34m(\u001b[0m\u001b[0mdf\u001b[0m\u001b[0;34m)\u001b[0m\u001b[0;34m\u001b[0m\u001b[0;34m\u001b[0m\u001b[0m\n\u001b[0m\u001b[1;32m     46\u001b[0m \u001b[0;34m\u001b[0m\u001b[0m\n\u001b[1;32m     47\u001b[0m   \u001b[0;34m\"\"\"DEFAULT PARAMETERS - USER MAY RUN SIMULATION WITHOUT UPDATING DATA\"\"\"\u001b[0m\u001b[0;34m\u001b[0m\u001b[0;34m\u001b[0m\u001b[0m\n",
            "\u001b[0;32m/content/steelindustrysimulator/digitaltwin/utils.py\u001b[0m in \u001b[0;36mrandom_start\u001b[0;34m(df)\u001b[0m\n\u001b[1;32m     32\u001b[0m   \u001b[0;31m# Finally, use this sample to collect data for starting:\u001b[0m\u001b[0;34m\u001b[0m\u001b[0;34m\u001b[0m\u001b[0m\n\u001b[1;32m     33\u001b[0m   \u001b[0mlagging_current_reactive_power\u001b[0m \u001b[0;34m=\u001b[0m \u001b[0mdf_sample\u001b[0m\u001b[0;34m[\u001b[0m\u001b[0;34m'Lagging_Current_Reactive.Power_kVarh_mean'\u001b[0m\u001b[0;34m]\u001b[0m\u001b[0;34m\u001b[0m\u001b[0;34m\u001b[0m\u001b[0m\n\u001b[0;32m---> 34\u001b[0;31m   \u001b[0mleading_current_reactive_power\u001b[0m \u001b[0;34m=\u001b[0m \u001b[0mdf_sample\u001b[0m\u001b[0;34m[\u001b[0m\u001b[0;34m'Leading_Current_Reactive_Power_kVarh_mean'\u001b[0m\u001b[0;34m]\u001b[0m\u001b[0;34m\u001b[0m\u001b[0;34m\u001b[0m\u001b[0m\n\u001b[0m\u001b[1;32m     35\u001b[0m   \u001b[0mco2_tco2\u001b[0m \u001b[0;34m=\u001b[0m \u001b[0mdf_sample\u001b[0m\u001b[0;34m[\u001b[0m\u001b[0;34m'CO2(tCO2)_mean'\u001b[0m\u001b[0;34m]\u001b[0m\u001b[0;34m\u001b[0m\u001b[0;34m\u001b[0m\u001b[0m\n\u001b[1;32m     36\u001b[0m   \u001b[0mlagging_current_power_factor\u001b[0m \u001b[0;34m=\u001b[0m \u001b[0mdf_sample\u001b[0m\u001b[0;34m[\u001b[0m\u001b[0;34m'Lagging_Current_Power_Factor_mean'\u001b[0m\u001b[0;34m]\u001b[0m\u001b[0;34m\u001b[0m\u001b[0;34m\u001b[0m\u001b[0m\n",
            "\u001b[0;32m/usr/local/lib/python3.10/dist-packages/pandas/core/frame.py\u001b[0m in \u001b[0;36m__getitem__\u001b[0;34m(self, key)\u001b[0m\n\u001b[1;32m   3805\u001b[0m             \u001b[0;32mif\u001b[0m \u001b[0mself\u001b[0m\u001b[0;34m.\u001b[0m\u001b[0mcolumns\u001b[0m\u001b[0;34m.\u001b[0m\u001b[0mnlevels\u001b[0m \u001b[0;34m>\u001b[0m \u001b[0;36m1\u001b[0m\u001b[0;34m:\u001b[0m\u001b[0;34m\u001b[0m\u001b[0;34m\u001b[0m\u001b[0m\n\u001b[1;32m   3806\u001b[0m                 \u001b[0;32mreturn\u001b[0m \u001b[0mself\u001b[0m\u001b[0;34m.\u001b[0m\u001b[0m_getitem_multilevel\u001b[0m\u001b[0;34m(\u001b[0m\u001b[0mkey\u001b[0m\u001b[0;34m)\u001b[0m\u001b[0;34m\u001b[0m\u001b[0;34m\u001b[0m\u001b[0m\n\u001b[0;32m-> 3807\u001b[0;31m             \u001b[0mindexer\u001b[0m \u001b[0;34m=\u001b[0m \u001b[0mself\u001b[0m\u001b[0;34m.\u001b[0m\u001b[0mcolumns\u001b[0m\u001b[0;34m.\u001b[0m\u001b[0mget_loc\u001b[0m\u001b[0;34m(\u001b[0m\u001b[0mkey\u001b[0m\u001b[0;34m)\u001b[0m\u001b[0;34m\u001b[0m\u001b[0;34m\u001b[0m\u001b[0m\n\u001b[0m\u001b[1;32m   3808\u001b[0m             \u001b[0;32mif\u001b[0m \u001b[0mis_integer\u001b[0m\u001b[0;34m(\u001b[0m\u001b[0mindexer\u001b[0m\u001b[0;34m)\u001b[0m\u001b[0;34m:\u001b[0m\u001b[0;34m\u001b[0m\u001b[0;34m\u001b[0m\u001b[0m\n\u001b[1;32m   3809\u001b[0m                 \u001b[0mindexer\u001b[0m \u001b[0;34m=\u001b[0m \u001b[0;34m[\u001b[0m\u001b[0mindexer\u001b[0m\u001b[0;34m]\u001b[0m\u001b[0;34m\u001b[0m\u001b[0;34m\u001b[0m\u001b[0m\n",
            "\u001b[0;32m/usr/local/lib/python3.10/dist-packages/pandas/core/indexes/base.py\u001b[0m in \u001b[0;36mget_loc\u001b[0;34m(self, key, method, tolerance)\u001b[0m\n\u001b[1;32m   3802\u001b[0m                 \u001b[0;32mreturn\u001b[0m \u001b[0mself\u001b[0m\u001b[0;34m.\u001b[0m\u001b[0m_engine\u001b[0m\u001b[0;34m.\u001b[0m\u001b[0mget_loc\u001b[0m\u001b[0;34m(\u001b[0m\u001b[0mcasted_key\u001b[0m\u001b[0;34m)\u001b[0m\u001b[0;34m\u001b[0m\u001b[0;34m\u001b[0m\u001b[0m\n\u001b[1;32m   3803\u001b[0m             \u001b[0;32mexcept\u001b[0m \u001b[0mKeyError\u001b[0m \u001b[0;32mas\u001b[0m \u001b[0merr\u001b[0m\u001b[0;34m:\u001b[0m\u001b[0;34m\u001b[0m\u001b[0;34m\u001b[0m\u001b[0m\n\u001b[0;32m-> 3804\u001b[0;31m                 \u001b[0;32mraise\u001b[0m \u001b[0mKeyError\u001b[0m\u001b[0;34m(\u001b[0m\u001b[0mkey\u001b[0m\u001b[0;34m)\u001b[0m \u001b[0;32mfrom\u001b[0m \u001b[0merr\u001b[0m\u001b[0;34m\u001b[0m\u001b[0;34m\u001b[0m\u001b[0m\n\u001b[0m\u001b[1;32m   3805\u001b[0m             \u001b[0;32mexcept\u001b[0m \u001b[0mTypeError\u001b[0m\u001b[0;34m:\u001b[0m\u001b[0;34m\u001b[0m\u001b[0;34m\u001b[0m\u001b[0m\n\u001b[1;32m   3806\u001b[0m                 \u001b[0;31m# If we have a listlike key, _check_indexing_error will raise\u001b[0m\u001b[0;34m\u001b[0m\u001b[0;34m\u001b[0m\u001b[0m\n",
            "\u001b[0;31mKeyError\u001b[0m: 'Leading_Current_Reactive_Power'"
          ]
        }
      ],
      "source": [
        "# @title Clique no botão \"Play\" abaixo (lado esquerdo) para iniciar a simulação { run: \"auto\", vertical-output: true, display-mode: \"form\" }\n",
        "\n",
        "def start_simulation(PT = True):\n",
        "\n",
        "  from subprocess import Popen, PIPE, TimeoutExpired\n",
        "\n",
        "  START_MSG = \"\"\"Starting steel industry operation.\"\"\"\n",
        "  START_MSG_PT = \"\"\"Iniciando operação da indústria de aço.\"\"\"\n",
        "\n",
        "  if (PT):\n",
        "    START_MSG = START_MSG_PT\n",
        "\n",
        "  proc = Popen([\"git\", \"clone\", \"https://github.com/marcosoares-92/steelindustrysimulator\", \"steelindustrysimulator\"], stdout = PIPE, stderr = PIPE)\n",
        "\n",
        "  try:\n",
        "      output, error = proc.communicate(timeout = 15)\n",
        "      print (START_MSG)\n",
        "  except:\n",
        "      # General exception\n",
        "      output, error = proc.communicate()\n",
        "      print(f\"Process with output: {output}, error: {error}.\\n\")\n",
        "\n",
        "\n",
        "start_simulation()\n",
        "from steelindustrysimulator.digitaltwin import *\n",
        "digitaltwin_start_msg(PT = True)"
      ]
    },
    {
      "cell_type": "code",
      "execution_count": null,
      "metadata": {
        "id": "_VLrJ7NpX241",
        "cellView": "form"
      },
      "outputs": [],
      "source": [
        "# @title Painel de Controle da Fábrica\n",
        "# @markdown Selecione os valores de simulação e clique no botão \"Play\" à esquerda para iniciar.\n",
        "\n",
        "Inicio = '2023-12-21'  # @param {type: \"date\"}\n",
        "Total_de_dias = 1  # @param {type: \"number\"}\n",
        "Total_de_horas = 0  # @param {type: \"number\"}\n",
        "Potencia_reativa_de_corrente_atrasada_kVarh = 39.974 # @param {type: \"slider\", min: 0.0, max: 72.16250000000001, step: 0.001}\n",
        "Potencia_reativa_de_corrente_principal_kVarh = 1.264 # @param {type: \"slider\", min: 0.0, max: 27.605, step: 0.001}\n",
        "tCO2_ppm_CO2 = 0.031 # @param {type: \"slider\", min: 0.0, max: 0.065, step: 0.001}\n",
        "Fator_de_potencia_da_corrente_atrasada = 69.6245 # @param {type: \"slider\", min: 37.2975, max: 100.0, step: 0.001}\n",
        "Tipo_de_carga = \"Light_Load\"  # @param ['Light_Load', 'Medium_Load', 'Maximum_Load']\n",
        "\n",
        "run_simulation(Inicio, Total_de_dias, Total_de_horas, Potencia_reativa_de_corrente_atrasada_kVarh, Potencia_reativa_de_corrente_principal_kVarh, tCO2_ppm_CO2, Fator_de_potencia_da_corrente_atrasada, Tipo_de_carga)"
      ]
    },
    {
      "cell_type": "code",
      "execution_count": null,
      "metadata": {
        "id": "ig8PIYeLtM8g",
        "cellView": "form"
      },
      "outputs": [],
      "source": [
        "#@title Visualizar consumo em kWh\n",
        "# @markdown Clique no botão \"Play\" à esquerda para visualizar os gráficos do consumo energético da fábrica, em kWh.\n",
        "\n",
        "# @markdown Selecione abaixo se deseja salvar os gráficos gerados:\n",
        "\n",
        "Exportar_graficos = True #@param {type:\"boolean\"}\n",
        "\n",
        "visualize_usage_kwh(export_images = Exportar_graficos)"
      ]
    },
    {
      "cell_type": "code",
      "source": [
        "#@title Fazer download de arquivo Excel com as tabelas de simulação.\n",
        "# @markdown Clique no botão \"Play\" à esquerda para fazer download de uma planilha Excel contendo as tabelas com todas as simulações realizadas até agora.\n",
        "\n",
        "download_excel_with_data()"
      ],
      "metadata": {
        "cellView": "form",
        "id": "OzuZ7b3a0Z1s"
      },
      "execution_count": null,
      "outputs": []
    }
  ],
  "metadata": {
    "colab": {
      "provenance": []
    },
    "kernelspec": {
      "display_name": "Python 3",
      "name": "python3"
    },
    "language_info": {
      "name": "python",
      "version": ""
    }
  },
  "nbformat": 4,
  "nbformat_minor": 0
}