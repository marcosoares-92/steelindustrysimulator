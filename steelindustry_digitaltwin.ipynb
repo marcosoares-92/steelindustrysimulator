{
  "cells": [
    {
      "cell_type": "markdown",
      "source": [
        "<a href=\"https://colab.research.google.com/github/marcosoares-92/steelindustrysimulator/blob/main/steelindustry_digitaltwin.ipynb\" target=\"_parent\"><img src=\"https://colab.research.google.com/assets/colab-badge.svg\" alt=\"Open In Colab\"/></a>"
      ],
      "metadata": {
        "id": "FbExS0cCFOoN"
      }
    },
    {
      "cell_type": "markdown",
      "metadata": {
        "id": "_7gRpQLXQSID"
      },
      "source": [
        "# Steel Industry Digital Twin\n",
        "## Deep Learning for Industrial Simulation\n",
        "###### ***The Ideal Tool for Process Improvement, and Data Collection, Analyzing and Modelling Training***\n",
        "\n",
        "-----------------------------------------------------\n",
        "\n",
        "###### Contact:\n",
        "  ***Marco Cesar Prado Soares, Data Scientist Specialist @ Bayer Crop Science LATAM***\n",
        "  \n",
        "\t - marcosoares.feq@gmail.com\n",
        "\t - marco.soares@bayer.com"
      ]
    },
    {
      "cell_type": "code",
      "source": [
        "# @title Instrução para uso!\n",
        "# @markdown Existe um botão **`Play`** no canto superior esquerdo de cada célula.\n",
        "\n",
        "# @markdown Após selecionar os parâmetros e ler as instruções de cada células, clique no **`Play`** ou pressione **`Shift` + `Enter`** para executar o comando."
      ],
      "metadata": {
        "cellView": "form",
        "id": "_uwxKtDn6RSd"
      },
      "execution_count": null,
      "outputs": []
    },
    {
      "cell_type": "code",
      "execution_count": null,
      "metadata": {
        "id": "0XBUmMCa8-i2"
      },
      "outputs": [],
      "source": [
        "# @title Industry Start-up!\n",
        "# @markdown Clique no botão **`Play`** à esquerda para iniciar a operação da sua Digital Twin! { run: \"auto\", vertical-output: true, display-mode: \"form\" }\n",
        "\n",
        "! pip install numpy==1.26.4 pandas==2.1.4 scikit-learn==1.3.1 tensorflow==2.14.0 scipy==1.11.3 statsmodels==0.14.0 matplotlib==3.8.0\n",
        "def update_environment():\n",
        "  from subprocess import Popen, PIPE, TimeoutExpired\n",
        "  # Lock the appropriate Python versions for preventing the simulator from stopping.\n",
        "  proc1 = Popen([\"python\", \"-m\", \"pip\", \"install\", \"numpy==1.26.4\"], stdout = PIPE, stderr = PIPE)\n",
        "  proc2 = Popen([\"python\", \"-m\", \"pip\", \"install\", \"pandas==2.1.4\"], stdout = PIPE, stderr = PIPE)\n",
        "  proc3 = Popen([\"python\", \"-m\", \"pip\", \"install\", \"scikit-learn==1.3.1\"], stdout = PIPE, stderr = PIPE)\n",
        "  proc4 = Popen([\"python\", \"-m\", \"pip\", \"install\", \"tensorflow==2.14.0\"], stdout = PIPE, stderr = PIPE)\n",
        "  proc5 = Popen([\"python\", \"-m\", \"pip\", \"install\", \"scipy==1.11.3\"], stdout = PIPE, stderr = PIPE)\n",
        "  proc6 = Popen([\"python\", \"-m\", \"pip\", \"install\", \"statsmodels==0.14.0\"], stdout = PIPE, stderr = PIPE)\n",
        "  proc7 = Popen([\"python\", \"-m\", \"pip\", \"install\", \"matplotlib==3.8.0\"], stdout = PIPE, stderr = PIPE)\n",
        "\n",
        "  start_msg = \"\"\"\n",
        "      ----------------------------------------------------------------------\n",
        "                        STEEL INDUSTRY DIGITAL TWIN TERMINAL\n",
        "\n",
        "\n",
        "      Updating Digital Twin system...\n",
        "\n",
        "      ------------------------------------------------------------------------\n",
        "\n",
        "      \"\"\"\n",
        "\n",
        "  # RUN PROCESSES FOR INSTALLING CORRECT VERSIONS\n",
        "  output1, error1 = proc1.communicate()\n",
        "  output2, error2 = proc2.communicate()\n",
        "  output3, error3 = proc3.communicate()\n",
        "  output4, error4 = proc4.communicate()\n",
        "  output5, error5 = proc5.communicate()\n",
        "  output6, error6 = proc6.communicate()\n",
        "  output7, error7 = proc7.communicate()\n",
        "\n",
        "  print(start_msg)\n",
        "\n",
        "  import numpy as np\n",
        "  import pandas as pd\n",
        "  import sklearn\n",
        "  import tensorflow as tf\n",
        "  import scipy\n",
        "  import statsmodels\n",
        "  import matplotlib\n",
        "\n",
        "  msg = \"\"\"\n",
        "\n",
        "      ----------------------------------------------------------------------\n",
        "                        STEEL INDUSTRY DIGITAL TWIN TERMINAL\n",
        "\n",
        "                                      WARNING!\n",
        "\n",
        "          System update failed. If the digital twin do not work properly,\n",
        "          run a cell declaring:\n",
        "\n",
        "                          ! pip install sklearn==1.3.1\n",
        "\n",
        "      ------------------------------------------------------------------------\n",
        "\n",
        "      \"\"\"\n",
        "\n",
        "  if ((sklearn.__version__) != '1.3.1'):\n",
        "      # Scikit-learn was not updated.\n",
        "      print(msg)\n",
        "\n",
        "def start_simulation(PT = True):\n",
        "  \"\"\"Import the simulator backend to start the digital twin.\"\"\"\n",
        "\n",
        "  from subprocess import Popen, PIPE, TimeoutExpired\n",
        "\n",
        "  START_MSG = \"\"\"Starting steel industry operation.\"\"\"\n",
        "  START_MSG_PT = \"\"\"Iniciando operação da indústria de aço.\"\"\"\n",
        "\n",
        "  if (PT):\n",
        "    START_MSG = START_MSG_PT\n",
        "\n",
        "  cmd = \"\"\"git clone https://github.com/marcosoares-92/steelindustrysimulator steelindustrysimulator\"\"\"\n",
        "  proc = Popen(cmd.split(\" \"), stdout = PIPE, stderr = PIPE)\n",
        "\n",
        "  \"\"\"Split of cmd in whitespaces (' '), will lead to a list as:\n",
        "    [\"git\", \"clone\", \"https://github.com/marcosoares-92/steelindustrysimulator\", \"steelindustrysimulator\"]\n",
        "    which is the actual input parameter for Popen.\n",
        "  \"\"\"\n",
        "\n",
        "  try:\n",
        "      output, error = proc.communicate(timeout = 15)\n",
        "      print (START_MSG)\n",
        "  except:\n",
        "      # General exception\n",
        "      output, error = proc.communicate()\n",
        "      print(f\"Process with output: {output}, error: {error}.\\n\")\n",
        "\n",
        "\n",
        "#update_environment()\n",
        "start_simulation()\n",
        "from steelindustrysimulator.digitaltwin import *\n",
        "from steelindustrysimulator.digitaltwin.idsw import *\n",
        "start_digital_twin(PT = True)"
      ]
    },
    {
      "cell_type": "code",
      "execution_count": null,
      "metadata": {
        "id": "_VLrJ7NpX241",
        "cellView": "form"
      },
      "outputs": [],
      "source": [
        "# @title Painel de Controle da Fábrica\n",
        "# @markdown Defina abaixo os valores de simulação e por fim clique no botão **`Play`** à esquerda para iniciar.\n",
        "\n",
        "# @markdown - Forneça a data de início de operação da fábrica:\n",
        "Inicio = '2024-02-21'  # @param {type: \"date\"}\n",
        "\n",
        "# @markdown - Forneça o tempo total de funcionamento da fábrica (tempo de simulação):\n",
        "\n",
        "# @markdown - A fábrica funcionará por um total de dias completos igual a {Total_de_dias} + o total de horas definido em {Total_de_horas}.\n",
        "\n",
        "Total_de_dias = 10  # @param {type: \"number\"}\n",
        "Total_de_horas = 12  # @param {type: \"number\"}\n",
        "\n",
        "# @markdown - Defina agora os parâmetros de operação da fábrica. Basta arrastar os sliders ou selecionar o valor na caixa de opções (dropdown):\n",
        "Potencia_reativa_de_corrente_atrasada_kVarh = 37.119 # @param {type: \"slider\", min: 0.0, max: 72.16250000000001, step: 0.001}\n",
        "Potencia_reativa_de_corrente_principal_kVarh = 13.877 # @param {type: \"slider\", min: 0.0, max: 27.605, step: 0.001}\n",
        "tCO2_ppm_CO2 = 0.029 # @param {type: \"slider\", min: 0.0, max: 0.065, step: 0.001}\n",
        "Fator_de_potencia_da_corrente_atrasada = 73.2925 # @param {type: \"slider\", min: 37.2975, max: 100.0, step: 0.001}\n",
        "Tipo_de_carga = \"Light_Load\"  # @param ['Light_Load', 'Medium_Load', 'Maximum_Load']\n",
        "\n",
        "# @markdown - Operação definida! Agora não esqueça de clicar no botão **`Play`** no canto superior esquerdo para iniciar!\n",
        "\n",
        "run_simulation(Inicio, Total_de_dias, Total_de_horas, Potencia_reativa_de_corrente_atrasada_kVarh, Potencia_reativa_de_corrente_principal_kVarh, tCO2_ppm_CO2, Fator_de_potencia_da_corrente_atrasada, Tipo_de_carga)"
      ]
    },
    {
      "cell_type": "code",
      "execution_count": null,
      "metadata": {
        "id": "ig8PIYeLtM8g",
        "cellView": "form"
      },
      "outputs": [],
      "source": [
        "#@title Visualizar consumo em kWh\n",
        "# @markdown Clique no botão **`Play`** à esquerda para visualizar os gráficos do consumo energético da fábrica, em kWh.\n",
        "\n",
        "# @markdown Selecione abaixo se deseja salvar os gráficos gerados:\n",
        "# @markdown - (Basta manter selecionado o botão abaixo para fazer o download das imagens).\n",
        "\n",
        "Exportar_graficos = True #@param {type:\"boolean\"}\n",
        "\n",
        "visualize_usage_kwh(export_images = Exportar_graficos)"
      ]
    },
    {
      "cell_type": "code",
      "source": [
        "#@title Fazer download de arquivo Excel com as tabelas de simulação.\n",
        "# @markdown Clique no botão **`Play`** à esquerda para fazer download de uma planilha Excel contendo as tabelas com todas as simulações realizadas até agora.\n",
        "\n",
        "download_excel_with_data()"
      ],
      "metadata": {
        "cellView": "form",
        "id": "OzuZ7b3a0Z1s"
      },
      "execution_count": null,
      "outputs": []
    },
    {
      "cell_type": "code",
      "source": [
        "# @title Solução de problemas!\n",
        "\n",
        "# @markdown Durante a inicialização da fábrica, você pode ter recebido uma mensagem de alerta (\"WARNING!\") dizendo para executar o seguinte comando:\n",
        "\n",
        "# @markdown `! pip install sklearn==1.3.1 `\n",
        "\n",
        "# @markdown - Caso tenha recebido e a inicialização da fábrica de fato não tenha funcionado, basta clicar no **`Play`** no canto superior esquerdo do texto desta célula.\n",
        "\n",
        "# @markdown - Por fim, clique no botão **`Restart session`**, caso ele surja e rode novamente o simulador.\n",
        "\n",
        "! pip install scikit-learn==1.3.1"
      ],
      "metadata": {
        "cellView": "form",
        "id": "1HiRe0EfFvXO"
      },
      "execution_count": null,
      "outputs": []
    }
  ],
  "metadata": {
    "colab": {
      "provenance": []
    },
    "kernelspec": {
      "display_name": "Python 3",
      "name": "python3"
    },
    "language_info": {
      "name": "python",
      "version": ""
    }
  },
  "nbformat": 4,
  "nbformat_minor": 0
}